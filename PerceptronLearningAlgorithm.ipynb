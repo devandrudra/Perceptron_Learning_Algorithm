{
  "nbformat": 4,
  "nbformat_minor": 0,
  "metadata": {
    "colab": {
      "provenance": [],
      "authorship_tag": "ABX9TyO7auqOzbsKgNGY+j54cWjX",
      "include_colab_link": true
    },
    "kernelspec": {
      "name": "python3",
      "display_name": "Python 3"
    },
    "language_info": {
      "name": "python"
    }
  },
  "cells": [
    {
      "cell_type": "markdown",
      "metadata": {
        "id": "view-in-github",
        "colab_type": "text"
      },
      "source": [
        "<a href=\"https://colab.research.google.com/github/devandrudra/Perceptron_Learning_Algorithm/blob/main/PerceptronLearningAlgorithm.ipynb\" target=\"_parent\"><img src=\"https://colab.research.google.com/assets/colab-badge.svg\" alt=\"Open In Colab\"/></a>"
      ]
    },
    {
      "cell_type": "code",
      "execution_count": 1,
      "metadata": {
        "id": "YCX-pEOqh65M"
      },
      "outputs": [],
      "source": [
        "import random\n",
        "import numpy as np\n",
        "\n",
        "np.random.seed(42)         # For reproducibility\n",
        "num_samples = 20           # Number of training points\n",
        "learning_rate = 0.1\n",
        "max_epochs = 50\n",
        "\n",
        "x = np.random.randn(num_samples, 2)"
      ]
    },
    {
      "cell_type": "code",
      "source": [
        "y = np.where(x[:, 0] + x[:, 1] > 0, 1, -1)"
      ],
      "metadata": {
        "id": "j0rjXaPJiaKD"
      },
      "execution_count": 3,
      "outputs": []
    },
    {
      "cell_type": "code",
      "source": [
        "w = np.random.randn(2)"
      ],
      "metadata": {
        "id": "KD8yOI9Yi7yB"
      },
      "execution_count": 5,
      "outputs": []
    },
    {
      "cell_type": "code",
      "source": [
        "b = np.random.randn()"
      ],
      "metadata": {
        "id": "_GZkLPpejG_1"
      },
      "execution_count": 7,
      "outputs": []
    },
    {
      "cell_type": "code",
      "source": [
        "print(\"Initial Weights:\", w)\n",
        "print(\"Initial Bias:\", b)\n"
      ],
      "metadata": {
        "colab": {
          "base_uri": "https://localhost:8080/"
        },
        "id": "7dtcuscPjOu6",
        "outputId": "d362eeb4-de35-4808-8798-177263ca30f3"
      },
      "execution_count": 9,
      "outputs": [
        {
          "output_type": "stream",
          "name": "stdout",
          "text": [
            "Initial Weights: [0.73846658 0.17136828]\n",
            "Initial Bias: -0.11564828238824053\n"
          ]
        }
      ]
    },
    {
      "cell_type": "code",
      "source": [
        "for epoch in range(max_epochs):\n",
        "  errors = 0\n",
        "  for i in range(num_samples):\n",
        "    xi = x[i]\n",
        "    yi = y[i]\n",
        "    y_pred = np.sign(np.dot(w, xi) + b)\n",
        "    if y_pred != yi:\n",
        "      w = w + learning_rate * yi * xi\n",
        "      b = b + learning_rate * yi\n",
        "      errors += 1\n",
        "\n",
        "    print(f\"Epoch {epoch+1}: Misclassified = {errors}\")\n",
        "\n",
        "  if(errors == 0):\n",
        "    break\n",
        "\n",
        "\n"
      ],
      "metadata": {
        "colab": {
          "base_uri": "https://localhost:8080/"
        },
        "id": "8Q8sleEfjUd3",
        "outputId": "2f7383e7-8683-494e-ccc9-53c5ec8b0b5b"
      },
      "execution_count": 10,
      "outputs": [
        {
          "output_type": "stream",
          "name": "stdout",
          "text": [
            "Epoch 1: Misclassified = 0\n",
            "Epoch 1: Misclassified = 0\n",
            "Epoch 1: Misclassified = 0\n",
            "Epoch 1: Misclassified = 0\n",
            "Epoch 1: Misclassified = 1\n",
            "Epoch 1: Misclassified = 1\n",
            "Epoch 1: Misclassified = 1\n",
            "Epoch 1: Misclassified = 1\n",
            "Epoch 1: Misclassified = 1\n",
            "Epoch 1: Misclassified = 1\n",
            "Epoch 1: Misclassified = 1\n",
            "Epoch 1: Misclassified = 1\n",
            "Epoch 1: Misclassified = 1\n",
            "Epoch 1: Misclassified = 1\n",
            "Epoch 1: Misclassified = 1\n",
            "Epoch 1: Misclassified = 2\n",
            "Epoch 1: Misclassified = 2\n",
            "Epoch 1: Misclassified = 3\n",
            "Epoch 1: Misclassified = 3\n",
            "Epoch 1: Misclassified = 3\n",
            "Epoch 2: Misclassified = 0\n",
            "Epoch 2: Misclassified = 0\n",
            "Epoch 2: Misclassified = 0\n",
            "Epoch 2: Misclassified = 0\n",
            "Epoch 2: Misclassified = 0\n",
            "Epoch 2: Misclassified = 0\n",
            "Epoch 2: Misclassified = 0\n",
            "Epoch 2: Misclassified = 0\n",
            "Epoch 2: Misclassified = 0\n",
            "Epoch 2: Misclassified = 0\n",
            "Epoch 2: Misclassified = 0\n",
            "Epoch 2: Misclassified = 0\n",
            "Epoch 2: Misclassified = 0\n",
            "Epoch 2: Misclassified = 0\n",
            "Epoch 2: Misclassified = 0\n",
            "Epoch 2: Misclassified = 0\n",
            "Epoch 2: Misclassified = 0\n",
            "Epoch 2: Misclassified = 0\n",
            "Epoch 2: Misclassified = 0\n",
            "Epoch 2: Misclassified = 0\n"
          ]
        }
      ]
    },
    {
      "cell_type": "code",
      "source": [
        "print(f\"updated weight: {w}\")"
      ],
      "metadata": {
        "colab": {
          "base_uri": "https://localhost:8080/"
        },
        "id": "dl16rnPKqOkJ",
        "outputId": "d74e958e-9875-45cf-9e0f-ec794de52f7d"
      },
      "execution_count": 12,
      "outputs": [
        {
          "output_type": "stream",
          "name": "stdout",
          "text": [
            "[0.54909399 0.53293647]\n"
          ]
        }
      ]
    },
    {
      "cell_type": "code",
      "source": [
        "print(f\"updated bias: {b}\")"
      ],
      "metadata": {
        "colab": {
          "base_uri": "https://localhost:8080/"
        },
        "id": "NabrZlAaqRQs",
        "outputId": "d7ba39f2-7e15-4212-bf34-111973d1dd35"
      },
      "execution_count": 14,
      "outputs": [
        {
          "output_type": "stream",
          "name": "stdout",
          "text": [
            "updated bias: -0.015648282388240523\n"
          ]
        }
      ]
    },
    {
      "cell_type": "code",
      "source": [
        "print(\"prediction based on updated parameters: \\n\")\n",
        "for i in range(num_samples):\n",
        "  print(f\"{x[i]} -> {np.sign(np.dot(w, x[i]) + b)} -> {y[i]}\")"
      ],
      "metadata": {
        "colab": {
          "base_uri": "https://localhost:8080/"
        },
        "id": "gZdCnNDUq4mr",
        "outputId": "6c4b01c1-0ef4-4518-f6aa-4e6fe478cdc5"
      },
      "execution_count": 18,
      "outputs": [
        {
          "output_type": "stream",
          "name": "stdout",
          "text": [
            "prediction based on updated parameters: \n",
            "\n",
            "[ 0.49671415 -0.1382643 ] -> 1.0 -> 1\n",
            "[0.64768854 1.52302986] -> 1.0 -> 1\n",
            "[-0.23415337 -0.23413696] -> -1.0 -> -1\n",
            "[1.57921282 0.76743473] -> 1.0 -> 1\n",
            "[-0.46947439  0.54256004] -> 1.0 -> 1\n",
            "[-0.46341769 -0.46572975] -> -1.0 -> -1\n",
            "[ 0.24196227 -1.91328024] -> -1.0 -> -1\n",
            "[-1.72491783 -0.56228753] -> -1.0 -> -1\n",
            "[-1.01283112  0.31424733] -> -1.0 -> -1\n",
            "[-0.90802408 -1.4123037 ] -> -1.0 -> -1\n",
            "[ 1.46564877 -0.2257763 ] -> 1.0 -> 1\n",
            "[ 0.0675282  -1.42474819] -> -1.0 -> -1\n",
            "[-0.54438272  0.11092259] -> -1.0 -> -1\n",
            "[-1.15099358  0.37569802] -> -1.0 -> -1\n",
            "[-0.60063869 -0.29169375] -> -1.0 -> -1\n",
            "[-0.60170661  1.85227818] -> 1.0 -> 1\n",
            "[-0.01349722 -1.05771093] -> -1.0 -> -1\n",
            "[ 0.82254491 -1.22084365] -> -1.0 -> -1\n",
            "[ 0.2088636  -1.95967012] -> -1.0 -> -1\n",
            "[-1.32818605  0.19686124] -> -1.0 -> -1\n"
          ]
        }
      ]
    }
  ]
}